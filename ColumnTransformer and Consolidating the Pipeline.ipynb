{
 "cells": [
  {
   "cell_type": "code",
   "execution_count": 2,
   "id": "cfa30f5f-d7fa-42c0-b6e8-611e6e901ebd",
   "metadata": {},
   "outputs": [
    {
     "name": "stdout",
     "output_type": "stream",
     "text": [
      "(16512, 13)\n"
     ]
    }
   ],
   "source": [
    "import pandas as pd\n",
    "import numpy as np\n",
    "from sklearn.model_selection import StratifiedShuffleSplit\n",
    "from sklearn.pipeline import Pipeline\n",
    "from sklearn.compose import ColumnTransformer\n",
    "from sklearn.impute import SimpleImputer\n",
    "from sklearn.preprocessing import StandardScaler, OneHotEncoder\n",
    "\n",
    "# 1. Load the dataset\n",
    "housing = pd.read_csv(\"housing.csv\")\n",
    "\n",
    "# 2. Create a stratified test set\n",
    "housing['income_cat'] = pd.cut(housing[\"median_income\"], \n",
    "                               bins=[0.0, 1.5, 3.0, 4.5, 6.0, np.inf], \n",
    "                               labels=[1, 2, 3, 4, 5])\n",
    "\n",
    "split = StratifiedShuffleSplit(n_splits=1, test_size=0.2, random_state=42)\n",
    "\n",
    "for train_index, test_index in split.split(housing, housing['income_cat']):\n",
    "    strat_train_set = housing.loc[train_index].drop(\"income_cat\", axis=1) # We will work on this data\n",
    "    strat_test_set = housing.loc[test_index].drop(\"income_cat\", axis=1) # Set aside the test data\n",
    "\n",
    "# We will work on the copy of training data \n",
    "housing = strat_train_set.copy()\n",
    "\n",
    "# 3. Seperate features and labels\n",
    "housing_labels = housing[\"median_house_value\"].copy()\n",
    "housing = housing.drop(\"median_house_value\", axis=1)\n",
    "\n",
    "# print(housing, housing_labels)\n",
    "\n",
    "# 4. List the numerical and categorical columns\n",
    "num_attribs = housing.drop(\"ocean_proximity\", axis=1).columns.tolist()\n",
    "cat_attribs = [\"ocean_proximity\"]\n",
    "\n",
    "# 5. Lets make the pipeline \n",
    "\n",
    "# For numerical columns\n",
    "num_pipline = Pipeline([\n",
    "    (\"imputer\", SimpleImputer(strategy=\"median\")),\n",
    "    (\"scaler\", StandardScaler())\n",
    "])\n",
    "\n",
    "# For categorical columns\n",
    "cat_pipline = Pipeline([ \n",
    "    (\"onehot\", OneHotEncoder(handle_unknown=\"ignore\"))\n",
    "])\n",
    "\n",
    "# Construct the full pipeline\n",
    "full_pipeline = ColumnTransformer([\n",
    "    (\"num\", num_pipline, num_attribs), \n",
    "    ('cat', cat_pipline, cat_attribs)\n",
    "])\n",
    "\n",
    "# 6. Transform the data\n",
    "housing_prepared = full_pipeline.fit_transform(housing)\n",
    "print(housing_prepared.shape)"
   ]
  },
  {
   "cell_type": "code",
   "execution_count": null,
   "id": "d1a83fde-18a4-4a23-b096-176234f05bc0",
   "metadata": {},
   "outputs": [],
   "source": []
  }
 ],
 "metadata": {
  "kernelspec": {
   "display_name": "Python [conda env:base] *",
   "language": "python",
   "name": "conda-base-py"
  },
  "language_info": {
   "codemirror_mode": {
    "name": "ipython",
    "version": 3
   },
   "file_extension": ".py",
   "mimetype": "text/x-python",
   "name": "python",
   "nbconvert_exporter": "python",
   "pygments_lexer": "ipython3",
   "version": "3.12.7"
  }
 },
 "nbformat": 4,
 "nbformat_minor": 5
}
