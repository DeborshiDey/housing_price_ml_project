{
 "cells": [
  {
   "cell_type": "code",
   "execution_count": 3,
   "id": "6cd4c255-0a09-4d2b-91f8-65ef680271a7",
   "metadata": {},
   "outputs": [],
   "source": [
    "import pandas as pd\n",
    "import numpy as np\n",
    "from sklearn.model_selection import StratifiedShuffleSplit\n",
    "from sklearn.pipeline import Pipeline\n",
    "from sklearn.compose import ColumnTransformer\n",
    "from sklearn.impute import SimpleImputer\n",
    "from sklearn.preprocessing import StandardScaler, OneHotEncoder\n",
    "from sklearn.linear_model import LinearRegression\n",
    "from sklearn.tree import DecisionTreeRegressor\n",
    "from sklearn.ensemble import RandomForestRegressor\n",
    "from sklearn.metrics import root_mean_squared_error\n",
    "from sklearn.model_selection import cross_val_score"
   ]
  },
  {
   "cell_type": "code",
   "execution_count": 4,
   "id": "4f55700f-0849-47e6-902c-468f2f7f2310",
   "metadata": {},
   "outputs": [],
   "source": [
    "# 1. Load the dataset\n",
    "housing = pd.read_csv(\"housing.csv\")\n"
   ]
  },
  {
   "cell_type": "code",
   "execution_count": 5,
   "id": "424008c1-3ab1-479a-894d-87c2ca19515b",
   "metadata": {},
   "outputs": [],
   "source": [
    "# 2. Create a stratified test set\n",
    "housing['income_cat'] = pd.cut(housing[\"median_income\"], \n",
    "                               bins=[0.0, 1.5, 3.0, 4.5, 6.0, np.inf], \n",
    "                               labels=[1, 2, 3, 4, 5])\n",
    "\n",
    "split = StratifiedShuffleSplit(n_splits=1, test_size=0.2, random_state=42)\n",
    "\n",
    "for train_index, test_index in split.split(housing, housing['income_cat']):\n",
    "    strat_train_set = housing.loc[train_index].drop(\"income_cat\", axis=1) # We will work on this data\n",
    "    strat_test_set = housing.loc[test_index].drop(\"income_cat\", axis=1) # Set aside the test data\n",
    "\n",
    "# We will work on the copy of training data \n",
    "housing = strat_train_set.copy()"
   ]
  },
  {
   "cell_type": "code",
   "execution_count": 6,
   "id": "80223fe7-964f-49b7-8f5e-0eab9de6f42d",
   "metadata": {},
   "outputs": [],
   "source": [
    "# 3. Seperate features and labels\n",
    "housing_labels = housing[\"median_house_value\"].copy()\n",
    "housing = housing.drop(\"median_house_value\", axis=1)\n",
    "\n",
    "# print(housing, housing_labels)"
   ]
  },
  {
   "cell_type": "code",
   "execution_count": 7,
   "id": "9417b0ba-2300-4695-8728-8cb8a367f462",
   "metadata": {},
   "outputs": [],
   "source": [
    "# 4. List the numerical and categorical columns\n",
    "num_attribs = housing.drop(\"ocean_proximity\", axis=1).columns.tolist()\n",
    "cat_attribs = [\"ocean_proximity\"]"
   ]
  },
  {
   "cell_type": "code",
   "execution_count": 8,
   "id": "93da9439-0684-45c1-bc24-09362d4fd4db",
   "metadata": {},
   "outputs": [],
   "source": [
    "# 5. Lets make the pipeline \n",
    "\n",
    "# For numerical columns\n",
    "num_pipline = Pipeline([\n",
    "    (\"imputer\", SimpleImputer(strategy=\"median\")),\n",
    "    (\"scaler\", StandardScaler())\n",
    "])\n",
    "\n",
    "# For categorical columns\n",
    "cat_pipline = Pipeline([ \n",
    "    (\"onehot\", OneHotEncoder(handle_unknown=\"ignore\"))\n",
    "])\n",
    "\n",
    "# Construct the full pipeline\n",
    "full_pipeline = ColumnTransformer([\n",
    "    (\"num\", num_pipline, num_attribs), \n",
    "    ('cat', cat_pipline, cat_attribs)\n",
    "])\n"
   ]
  },
  {
   "cell_type": "code",
   "execution_count": 9,
   "id": "7e82504c-2fc4-4a49-a721-197e9ffbc771",
   "metadata": {},
   "outputs": [
    {
     "name": "stdout",
     "output_type": "stream",
     "text": [
      "(16512, 13)\n"
     ]
    }
   ],
   "source": [
    "# 6. Transform the data\n",
    "housing_prepared = full_pipeline.fit_transform(housing)\n",
    "print(housing_prepared.shape)\n"
   ]
  },
  {
   "cell_type": "code",
   "execution_count": 10,
   "id": "d47cb1be-cc28-425c-851d-d8d6d16e60ec",
   "metadata": {},
   "outputs": [
    {
     "name": "stdout",
     "output_type": "stream",
     "text": [
      "count       10.000000\n",
      "mean     69204.322755\n",
      "std       2500.382157\n",
      "min      65318.224029\n",
      "25%      67124.346106\n",
      "50%      69404.658178\n",
      "75%      70697.800632\n",
      "max      73003.752739\n",
      "dtype: float64\n"
     ]
    }
   ],
   "source": [
    "# 7. Train the model\n",
    "\n",
    "# Linear Regression Model\n",
    "lin_reg = LinearRegression()\n",
    "lin_reg.fit(housing_prepared, housing_labels)\n",
    "lin_preds = lin_reg.predict(housing_prepared)\n",
    "lin_rmse = root_mean_squared_error(housing_labels, lin_preds)\n",
    "# print(f\"The root mean squared error for Linear Regression is {lin_rmse}\")\n",
    "lin_rmses = -cross_val_score(lin_reg, housing_prepared, housing_labels, scoring=\"neg_root_mean_squared_error\", cv=10\n",
    "                             )\n",
    "# print(f\"The root mean squared error for Decision Tree is {dec_rmses}\")\n",
    "print(pd.Series(lin_rmses).describe())"
   ]
  },
  {
   "cell_type": "code",
   "execution_count": 11,
   "id": "bc8e08e7-f36a-476a-82b2-e2d75a12fdbd",
   "metadata": {},
   "outputs": [
    {
     "name": "stdout",
     "output_type": "stream",
     "text": [
      "count       10.000000\n",
      "mean     68934.441565\n",
      "std       1986.780221\n",
      "min      65099.769089\n",
      "25%      68072.217502\n",
      "50%      68821.773640\n",
      "75%      69554.676075\n",
      "max      72470.486540\n",
      "dtype: float64\n"
     ]
    }
   ],
   "source": [
    "# Decision Tree Model\n",
    "dec_reg = DecisionTreeRegressor()\n",
    "dec_reg.fit(housing_prepared, housing_labels)\n",
    "dec_preds = dec_reg.predict(housing_prepared)\n",
    "# dec_rmse = root_mean_squared_error(housing_labels, dec_preds)\n",
    "dec_rmses = -cross_val_score(dec_reg, housing_prepared, housing_labels, scoring=\"neg_root_mean_squared_error\", cv=10\n",
    "                             )\n",
    "# print(f\"The root mean squared error for Decision Tree is {dec_rmses}\")\n",
    "print(pd.Series(dec_rmses).describe())"
   ]
  },
  {
   "cell_type": "code",
   "execution_count": 12,
   "id": "df363938-f971-4463-8222-56247169aa86",
   "metadata": {},
   "outputs": [
    {
     "name": "stdout",
     "output_type": "stream",
     "text": [
      "count       10.000000\n",
      "mean     49348.268584\n",
      "std       1994.221365\n",
      "min      46530.007608\n",
      "25%      47864.408089\n",
      "50%      48961.725148\n",
      "75%      50432.677356\n",
      "max      52998.094371\n",
      "dtype: float64\n"
     ]
    }
   ],
   "source": [
    "# Random Forest Model\n",
    "random_forest_reg = RandomForestRegressor()\n",
    "random_forest_reg.fit(housing_prepared, housing_labels)\n",
    "random_forest_preds = random_forest_reg.predict(housing_prepared)\n",
    "random_forest_rmse = root_mean_squared_error(housing_labels, random_forest_preds)\n",
    "# print(f\"The root mean squared error for Random Forest is {random_forest_rmse}\")\n",
    "random_forest_rmses = -cross_val_score(random_forest_reg, housing_prepared, housing_labels, scoring=\"neg_root_mean_squared_error\", cv=10\n",
    "                             )\n",
    "# print(f\"The root mean squared error for Decision Tree is {dec_rmses}\")\n",
    "print(pd.Series(random_forest_rmses).describe())"
   ]
  }
 ],
 "metadata": {
  "kernelspec": {
   "display_name": "Python [conda env:base] *",
   "language": "python",
   "name": "conda-base-py"
  },
  "language_info": {
   "codemirror_mode": {
    "name": "ipython",
    "version": 3
   },
   "file_extension": ".py",
   "mimetype": "text/x-python",
   "name": "python",
   "nbconvert_exporter": "python",
   "pygments_lexer": "ipython3",
   "version": "3.12.7"
  }
 },
 "nbformat": 4,
 "nbformat_minor": 5
}
